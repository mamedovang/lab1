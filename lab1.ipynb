{
  "nbformat": 4,
  "nbformat_minor": 0,
  "metadata": {
    "colab": {
      "name": "lab1",
      "provenance": [],
      "authorship_tag": "ABX9TyMNR25BbWCv1wR50KWUBqpF",
      "include_colab_link": true
    },
    "kernelspec": {
      "name": "python3",
      "display_name": "Python 3"
    },
    "language_info": {
      "name": "python"
    }
  },
  "cells": [
    {
      "cell_type": "markdown",
      "metadata": {
        "id": "view-in-github",
        "colab_type": "text"
      },
      "source": [
        "<a href=\"https://colab.research.google.com/github/mamedovang/lab1/blob/main/lab1.ipynb\" target=\"_parent\"><img src=\"https://colab.research.google.com/assets/colab-badge.svg\" alt=\"Open In Colab\"/></a>"
      ]
    },
    {
      "cell_type": "markdown",
      "metadata": {
        "id": "NMltgC0E1ePO"
      },
      "source": [
        "# RSA и Python.\n",
        "Для реализации RSA в Питоне мы будем использовать модуль который так и называется RSA. Он поддерживает шифрование и расшифровку, подписание и проверку подписей в соответствии с PKCS#1 версия 1.5."
      ]
    },
    {
      "cell_type": "code",
      "metadata": {
        "colab": {
          "base_uri": "https://localhost:8080/"
        },
        "id": "GXy2f3nQ1gD7",
        "outputId": "066ef212-4c7a-4ea1-a88f-a5ef9de4099b"
      },
      "source": [
        "!pip install rsa\n",
        "#устанавливаем модуль rsa"
      ],
      "execution_count": 2,
      "outputs": [
        {
          "output_type": "stream",
          "text": [
            "Requirement already satisfied: rsa in /usr/local/lib/python3.7/dist-packages (4.7.2)\n",
            "Requirement already satisfied: pyasn1>=0.1.3 in /usr/local/lib/python3.7/dist-packages (from rsa) (0.4.8)\n"
          ],
          "name": "stdout"
        }
      ]
    },
    {
      "cell_type": "code",
      "metadata": {
        "colab": {
          "base_uri": "https://localhost:8080/"
        },
        "id": "suY4wD413BhH",
        "outputId": "30c0edc7-a291-462e-e0dd-d9d3d64408a2"
      },
      "source": [
        "import rsa\n",
        "(pubkey, privkey) = rsa.newkeys(512)\n",
        " \n",
        "message = b'Hello MGPU!'\n",
        " \n",
        "# шифруем\n",
        "crypto = rsa.encrypt(message, pubkey)\n",
        "print(crypto)\n",
        "#расшифровываем\n",
        "message = rsa.decrypt(crypto, privkey)\n",
        "print(message)"
      ],
      "execution_count": 3,
      "outputs": [
        {
          "output_type": "stream",
          "text": [
            "b'5\\xf9]\\x1e \\xdb\\x8c\\xf6\\xf1\\xd6\\x88;\\xc8pr\\x81\\xb3\\xfd\\xcc\\x96\\xdc}\\x8f\\xf3A\\x94q\\x98\\x8eU\\xfc\\xeb\\xb7\\x83\\xf7\\xbf\\xafe\\x92\\x1eQ\\xb5X\\x8dp\\xfb\\x85\\xa4\\xceY=9\\x95r\\xbb\\xcb\\x10\\x96\\x84e\\x94.WK'\n",
            "b'Hello MGPU!'\n"
          ],
          "name": "stdout"
        }
      ]
    },
    {
      "cell_type": "code",
      "metadata": {
        "id": "VhG4C0HS3LTz"
      },
      "source": [
        "import rsa\n",
        "(pubkey, privkey) = rsa.newkeys(512)\n",
        "message = b'Test message'\n",
        "signature = rsa.sign(message, privkey, 'SHA-1') \n",
        " # Создание подписи rsa.sign(message, priv_key, hash_method), можно использовать ‘MD5’, ‘SHA-1’, ‘SHA-224’, 'SHA-256’, ‘SHA-384’ и ‘SHA-512’ "
      ],
      "execution_count": 4,
      "outputs": []
    },
    {
      "cell_type": "code",
      "metadata": {
        "colab": {
          "base_uri": "https://localhost:8080/",
          "height": 296
        },
        "id": "e7ShhNwy3Y2z",
        "outputId": "50e179df-a324-4c7d-faae-a7f8fa0cc5f9"
      },
      "source": [
        "import random\n",
        "import typing as tp\n",
        "from math import gcd as bltin_gcd\n",
        "\n",
        "\n",
        "def is_prime(n):\n",
        "  if n == 2 or n == 3: return True\n",
        "  if n < 2 or n%2 == 0: return False\n",
        "  if n < 9: return True\n",
        "  if n%3 == 0: return False\n",
        "  r = int(n**0.5)\n",
        "  # since all primes > 3 are of the form 6n ± 1\n",
        "  # start with f=5 (which is prime)\n",
        "  # and test f, f+2 for being prime\n",
        "  # then loop by 6. \n",
        "  f = 5\n",
        "  while f <= r:\n",
        "    print('\\t',f)\n",
        "    if n % f == 0: return False\n",
        "    if n % (f+2) == 0: return False\n",
        "    f += 6\n",
        "  return True   \n",
        "\n",
        "def gcd(a: int, b: int) -> int:\n",
        "    return bltin_gcd(a, b) == 1\n",
        "\n",
        "\n",
        "def multiplicative_inverse(e: int, phi: int) -> int:\n",
        "\n",
        "\n",
        "\n",
        "\n",
        "  def generate_keypair(p: int, q: int) -> tp.Tuple[tp.Tuple[int, int], tp.Tuple[int, int]]:\n",
        "    if not (is_prime(p) and is_prime(q)):\n",
        "        raise ValueError(\"Both numbers must be prime.\")\n",
        "    elif p == q:\n",
        "        raise ValueError(\"p and q cannot be equal\")\n",
        "\n",
        "    # n = pq\n",
        "    # PUT YOUR CODE HERE\n",
        "\n",
        "    # phi = (p-1)(q-1)\n",
        "    # PUT YOUR CODE HERE\n",
        "\n",
        "    # Choose an integer e such that e and phi(n) are coprime\n",
        "    e = random.randrange(1, phi)\n",
        "\n",
        "    # Use Euclid's Algorithm to verify that e and phi(n) are coprime\n",
        "    g = gcd(e, phi)\n",
        "    while g != 1:\n",
        "        e = random.randrange(1, phi)\n",
        "        g = gcd(e, phi)\n",
        "\n",
        "    # Use Extended Euclid's Algorithm to generate the private key\n",
        "    d = multiplicative_inverse(e, phi)\n",
        "\n",
        "    # Return public and private keypair\n",
        "    # Public key is (e, n) and private key is (d, n)\n",
        "    return ((e, n), (d, n))\n",
        "\n",
        "\n",
        "def encrypt(pk: tp.Tuple[int, int], plaintext: str) -> tp.List[int]:\n",
        "    # Unpack the key into it's components\n",
        "    key, n = pk\n",
        "    # Convert each letter in the plaintext to numbers based on\n",
        "    # the character using a^b mod m\n",
        "    cipher = [(ord(char) ** key) % n for char in plaintext]\n",
        "    # Return the array of bytes\n",
        "    return cipher\n",
        "\n",
        "\n",
        "def decrypt(pk: tp.Tuple[int, int], ciphertext: tp.List[int]) -> str:\n",
        "    # Unpack the key into its components\n",
        "    key, n = pk\n",
        "    # Generate the plaintext based on the ciphertext and key using a^b mod m\n",
        "    plain = [chr((char ** key) % n) for char in ciphertext]\n",
        "    # Return the array of bytes as a string\n",
        "    return \"\".join(plain)\n",
        "\n",
        "\n",
        "if __name__ == \"__main__\":\n",
        "      print(\"RSA Encrypter/ Decrypter\")\n",
        "      p = int(input(\"Enter a prime number (17, 19, 23, etc): \"))\n",
        "      q = int(input(\"Enter another prime number (Not one you entered above): \"))\n",
        "      print(\"Generating your public/private keypairs now . . .\")\n",
        "public, private = generate_keypair(p, q)\n",
        "print(\"Your public key is \", public, \" and your private key is \", private)\n",
        "message = input(\"Enter a message to encrypt with your private key: \")\n",
        "encrypted_msg = encrypt(private, message)\n",
        "print(\"Your encrypted message is: \")\n",
        "print(\"\".join(map(lambda x: str(x), encrypted_msg)))\n",
        "print(\"Decrypting message with public key \", public, \" . . .\")\n",
        "print(\"Your message is:\")\n",
        "print(decrypt(public, encrypted_msg))"
      ],
      "execution_count": 25,
      "outputs": [
        {
          "output_type": "stream",
          "text": [
            "RSA Encrypter/ Decrypter\n",
            "Enter a prime number (17, 19, 23, etc): 17\n",
            "Enter another prime number (Not one you entered above): 17\n",
            "Generating your public/private keypairs now . . .\n"
          ],
          "name": "stdout"
        },
        {
          "output_type": "error",
          "ename": "NameError",
          "evalue": "ignored",
          "traceback": [
            "\u001b[0;31m---------------------------------------------------------------------------\u001b[0m",
            "\u001b[0;31mNameError\u001b[0m                                 Traceback (most recent call last)",
            "\u001b[0;32m<ipython-input-25-f43db8532db0>\u001b[0m in \u001b[0;36m<module>\u001b[0;34m()\u001b[0m\n\u001b[1;32m     84\u001b[0m       \u001b[0mq\u001b[0m \u001b[0;34m=\u001b[0m \u001b[0mint\u001b[0m\u001b[0;34m(\u001b[0m\u001b[0minput\u001b[0m\u001b[0;34m(\u001b[0m\u001b[0;34m\"Enter another prime number (Not one you entered above): \"\u001b[0m\u001b[0;34m)\u001b[0m\u001b[0;34m)\u001b[0m\u001b[0;34m\u001b[0m\u001b[0;34m\u001b[0m\u001b[0m\n\u001b[1;32m     85\u001b[0m       \u001b[0mprint\u001b[0m\u001b[0;34m(\u001b[0m\u001b[0;34m\"Generating your public/private keypairs now . . .\"\u001b[0m\u001b[0;34m)\u001b[0m\u001b[0;34m\u001b[0m\u001b[0;34m\u001b[0m\u001b[0m\n\u001b[0;32m---> 86\u001b[0;31m \u001b[0mpublic\u001b[0m\u001b[0;34m,\u001b[0m \u001b[0mprivate\u001b[0m \u001b[0;34m=\u001b[0m \u001b[0mgenerate_keypair\u001b[0m\u001b[0;34m(\u001b[0m\u001b[0mp\u001b[0m\u001b[0;34m,\u001b[0m \u001b[0mq\u001b[0m\u001b[0;34m)\u001b[0m\u001b[0;34m\u001b[0m\u001b[0;34m\u001b[0m\u001b[0m\n\u001b[0m\u001b[1;32m     87\u001b[0m \u001b[0mprint\u001b[0m\u001b[0;34m(\u001b[0m\u001b[0;34m\"Your public key is \"\u001b[0m\u001b[0;34m,\u001b[0m \u001b[0mpublic\u001b[0m\u001b[0;34m,\u001b[0m \u001b[0;34m\" and your private key is \"\u001b[0m\u001b[0;34m,\u001b[0m \u001b[0mprivate\u001b[0m\u001b[0;34m)\u001b[0m\u001b[0;34m\u001b[0m\u001b[0;34m\u001b[0m\u001b[0m\n\u001b[1;32m     88\u001b[0m \u001b[0mmessage\u001b[0m \u001b[0;34m=\u001b[0m \u001b[0minput\u001b[0m\u001b[0;34m(\u001b[0m\u001b[0;34m\"Enter a message to encrypt with your private key: \"\u001b[0m\u001b[0;34m)\u001b[0m\u001b[0;34m\u001b[0m\u001b[0;34m\u001b[0m\u001b[0m\n",
            "\u001b[0;31mNameError\u001b[0m: name 'generate_keypair' is not defined"
          ]
        }
      ]
    }
  ]
}